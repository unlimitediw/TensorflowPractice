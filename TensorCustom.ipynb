{
 "cells": [
  {
   "cell_type": "code",
   "execution_count": 19,
   "metadata": {},
   "outputs": [
    {
     "data": {
      "text/plain": [
       "[<tf.Variable 'dense_11/kernel:0' shape=(5, 10) dtype=float32, numpy=\n",
       " array([[-0.15856671,  0.5142376 ,  0.3704372 , -0.2507851 ,  0.04521245,\n",
       "         -0.5604258 ,  0.4002692 , -0.51249313, -0.1777617 , -0.25331175],\n",
       "        [-0.13241309,  0.14858478,  0.26649827, -0.5820701 ,  0.28057575,\n",
       "         -0.03742629,  0.50551397, -0.3235623 ,  0.27918398,  0.45734435],\n",
       "        [-0.2870309 ,  0.12711102, -0.2515172 , -0.490287  ,  0.45290214,\n",
       "         -0.14846158, -0.11887223,  0.01223415,  0.24653178, -0.5674909 ],\n",
       "        [-0.5266123 ,  0.21707618,  0.33146155, -0.09039718,  0.61514896,\n",
       "         -0.05334455, -0.17419147, -0.47648346,  0.05691552,  0.19374025],\n",
       "        [-0.0146451 ,  0.13913119,  0.22121024,  0.33712864,  0.531426  ,\n",
       "          0.09762484,  0.29149336, -0.42858574, -0.05251169, -0.27859262]],\n",
       "       dtype=float32)>,\n",
       " <tf.Variable 'dense_11/bias:0' shape=(10,) dtype=float32, numpy=array([0., 0., 0., 0., 0., 0., 0., 0., 0., 0.], dtype=float32)>]"
      ]
     },
     "execution_count": 19,
     "metadata": {},
     "output_type": "execute_result"
    }
   ],
   "source": [
    "'''\n",
    "# CustomLayer\n",
    "'''\n",
    "import tensorflow as tf\n",
    "tf.enable_eager_execution()\n",
    "# https://www.tensorflow.org/api_docs/python/tf/keras/layers/Dense\n",
    "layer = tf.keras.layers.Dense(10,input_shape=(None,5)) # 10 dimension of output\n",
    "# use a layer\n",
    "layer(tf.zeros([10,5]))\n",
    "# inspect layer variables\n",
    "layer.variables"
   ]
  },
  {
   "cell_type": "code",
   "execution_count": 14,
   "metadata": {},
   "outputs": [
    {
     "data": {
      "text/plain": [
       "<tf.Variable 'dense_9/kernel:0' shape=(5, 10) dtype=float32, numpy=\n",
       "array([[-0.60317004,  0.29735106,  0.5525548 ,  0.26152492, -0.4012888 ,\n",
       "        -0.45187783, -0.5508338 , -0.4672752 , -0.4507941 ,  0.5098825 ],\n",
       "       [ 0.07211643,  0.5268138 ,  0.27953368,  0.43284398, -0.05539483,\n",
       "         0.10875082,  0.2957375 , -0.5974245 , -0.21372658, -0.10345387],\n",
       "       [ 0.50502557, -0.33884522, -0.11771595,  0.37420374,  0.28772563,\n",
       "         0.58718604,  0.43105274,  0.31320894,  0.49767262, -0.5273149 ],\n",
       "       [ 0.5096832 ,  0.27220172,  0.20525044, -0.55492187, -0.04032582,\n",
       "        -0.18168706, -0.48612854, -0.18369406, -0.08028328, -0.36795416],\n",
       "       [ 0.45442945,  0.2802015 ,  0.30973327, -0.27177784,  0.04215825,\n",
       "        -0.6246181 ,  0.1935237 , -0.1799967 , -0.39873144, -0.4719061 ]],\n",
       "      dtype=float32)>"
      ]
     },
     "execution_count": 14,
     "metadata": {},
     "output_type": "execute_result"
    }
   ],
   "source": [
    "layer.kernel"
   ]
  },
  {
   "cell_type": "code",
   "execution_count": 15,
   "metadata": {},
   "outputs": [
    {
     "data": {
      "text/plain": [
       "<tf.Variable 'dense_9/bias:0' shape=(10,) dtype=float32, numpy=array([0., 0., 0., 0., 0., 0., 0., 0., 0., 0.], dtype=float32)>"
      ]
     },
     "execution_count": 15,
     "metadata": {},
     "output_type": "execute_result"
    }
   ],
   "source": [
    "layer.bias"
   ]
  },
  {
   "cell_type": "code",
   "execution_count": 47,
   "metadata": {},
   "outputs": [
    {
     "name": "stdout",
     "output_type": "stream",
     "text": [
      "check\n",
      "tf.Tensor(\n",
      "[[0. 0. 0. 0. 0.]\n",
      " [0. 0. 0. 0. 0.]\n",
      " [0. 0. 0. 0. 0.]\n",
      " [0. 0. 0. 0. 0.]\n",
      " [0. 0. 0. 0. 0.]\n",
      " [0. 0. 0. 0. 0.]\n",
      " [0. 0. 0. 0. 0.]\n",
      " [0. 0. 0. 0. 0.]\n",
      " [0. 0. 0. 0. 0.]\n",
      " [0. 0. 0. 0. 0.]], shape=(10, 5), dtype=float32)\n",
      "b-check (10, 5)\n",
      "5 10\n",
      "bb-check\n",
      "c-check\n",
      "tf.Tensor(\n",
      "[[0. 0. 0. 0. 0. 0. 0. 0. 0. 0.]\n",
      " [0. 0. 0. 0. 0. 0. 0. 0. 0. 0.]\n",
      " [0. 0. 0. 0. 0. 0. 0. 0. 0. 0.]\n",
      " [0. 0. 0. 0. 0. 0. 0. 0. 0. 0.]\n",
      " [0. 0. 0. 0. 0. 0. 0. 0. 0. 0.]\n",
      " [0. 0. 0. 0. 0. 0. 0. 0. 0. 0.]\n",
      " [0. 0. 0. 0. 0. 0. 0. 0. 0. 0.]\n",
      " [0. 0. 0. 0. 0. 0. 0. 0. 0. 0.]\n",
      " [0. 0. 0. 0. 0. 0. 0. 0. 0. 0.]\n",
      " [0. 0. 0. 0. 0. 0. 0. 0. 0. 0.]], shape=(10, 10), dtype=float32)\n",
      "check\n",
      "[<tf.Variable 'my_dense_layer_23/kernel:0' shape=(5, 10) dtype=float32, numpy=\n",
      "array([[-0.26174206,  0.1073103 ,  0.2815342 ,  0.16341156, -0.26420748,\n",
      "         0.43810326,  0.22158045, -0.2293016 , -0.2158536 ,  0.46685797],\n",
      "       [ 0.02323103,  0.44008547,  0.07808417, -0.27902144,  0.45709556,\n",
      "         0.01620167, -0.4378807 ,  0.03620374,  0.17470235, -0.1651761 ],\n",
      "       [-0.52327484,  0.5636465 , -0.32414645, -0.03244561, -0.5191809 ,\n",
      "         0.06430221,  0.47122437, -0.41251856,  0.02018601, -0.14154473],\n",
      "       [-0.06632262,  0.37509054, -0.09839386,  0.15322226,  0.31513125,\n",
      "         0.28084975,  0.09908628,  0.5983781 ,  0.21046335, -0.32936496],\n",
      "       [-0.534334  , -0.31999296,  0.4969595 , -0.4354337 ,  0.32890582,\n",
      "        -0.08426034, -0.04798621, -0.08598149, -0.17024142, -0.25083172]],\n",
      "      dtype=float32)>]\n"
     ]
    }
   ],
   "source": [
    "# Implementing custom layer\n",
    "# extending tf.keras.Layer class\n",
    "class MyDenseLayer(tf.keras.layers.Layer):\n",
    "    def __init__(self, num_outputs):\n",
    "        super(MyDenseLayer, self).__init__()\n",
    "        self.num_outputs = num_outputs\n",
    "    \n",
    "    def build(self, input_shape):\n",
    "        print('b-check',input_shape)\n",
    "        print(input_shape[-1],self.num_outputs)\n",
    "        self.kernel = self.add_variable(\"kernel\",shape=[int(input_shape[-1]),self.num_outputs])\n",
    "        print('bb-check')\n",
    "        \n",
    "    def call(self,input):\n",
    "        print('c-check')\n",
    "        return tf.matmul(input, self.kernel)\n",
    "\n",
    "layer = MyDenseLayer(10)\n",
    "print('check')\n",
    "print(layer(tf.zeros([10, 5])))\n",
    "print('check')\n",
    "print(layer.trainable_variables)"
   ]
  },
  {
   "cell_type": "code",
   "execution_count": 44,
   "metadata": {},
   "outputs": [
    {
     "name": "stdout",
     "output_type": "stream",
     "text": [
      "check\n",
      "v-check\n",
      "tf.Tensor(\n",
      "[[[[0. 0. 0.]\n",
      "   [0. 0. 0.]\n",
      "   [0. 0. 0.]]\n",
      "\n",
      "  [[0. 0. 0.]\n",
      "   [0. 0. 0.]\n",
      "   [0. 0. 0.]]]], shape=(1, 2, 3, 3), dtype=float32)\n",
      "check\n",
      "['resnet_identity_block_4/conv2d_12/kernel:0', 'resnet_identity_block_4/conv2d_12/bias:0', 'resnet_identity_block_4/batch_normalization_v1_12/gamma:0', 'resnet_identity_block_4/batch_normalization_v1_12/beta:0', 'resnet_identity_block_4/conv2d_13/kernel:0', 'resnet_identity_block_4/conv2d_13/bias:0', 'resnet_identity_block_4/batch_normalization_v1_13/gamma:0', 'resnet_identity_block_4/batch_normalization_v1_13/beta:0', 'resnet_identity_block_4/conv2d_14/kernel:0', 'resnet_identity_block_4/conv2d_14/bias:0', 'resnet_identity_block_4/batch_normalization_v1_14/gamma:0', 'resnet_identity_block_4/batch_normalization_v1_14/beta:0']\n"
     ]
    }
   ],
   "source": [
    "# Composing layer\n",
    "class ResnetIdentityBlock(tf.keras.Model):\n",
    "    def __init__(self,kernel_size,filters):\n",
    "        super(ResnetIdentityBlock,self).__init__(name='')\n",
    "        filters1, filters2, filters3 = filters\n",
    "        \n",
    "        self.conv2a = tf.keras.layers.Conv2D(filters1,(1,1))\n",
    "        self.bn2a = tf.keras.layers.BatchNormalization()\n",
    "        \n",
    "        self.conv2b = tf.keras.layers.Conv2D(filters2, kernel_size,padding='same')\n",
    "        self.bn2b = tf.keras.layers.BatchNormalization()\n",
    "        \n",
    "        self.conv2c = tf.keras.layers.Conv2D(filters3,(1,1))\n",
    "        self.bn2c = tf.keras.layers.BatchNormalization()\n",
    "        \n",
    "    def call(self,input_tensor,training=False):\n",
    "        print('v-check')\n",
    "        x = self.conv2a(input_tensor)\n",
    "        x = self.bn2a(x, training=training)\n",
    "        x = tf.nn.relu(x)\n",
    "\n",
    "        x = self.conv2b(x)\n",
    "        x = self.bn2b(x, training=training)\n",
    "        x = tf.nn.relu(x)\n",
    "\n",
    "        x = self.conv2c(x)\n",
    "        x = self.bn2c(x, training=training)\n",
    "\n",
    "        x += input_tensor\n",
    "        return tf.nn.relu(x)\n",
    "# filters: Integer, the dimensionality of the output space (i.e. the number of output filters in the convolution).\n",
    "block = ResnetIdentityBlock(1,[1,2,3])\n",
    "print('check')\n",
    "print(block(tf.zeros([1,2,3,3])))\n",
    "print('check')\n",
    "print([x.name for x in block.trainable_variables])\n"
   ]
  },
  {
   "cell_type": "code",
   "execution_count": 49,
   "metadata": {},
   "outputs": [
    {
     "data": {
      "text/plain": [
       "<tf.Tensor: id=1957, shape=(1, 2, 3, 3), dtype=float32, numpy=\n",
       "array([[[[0., 0., 0.],\n",
       "         [0., 0., 0.],\n",
       "         [0., 0., 0.]],\n",
       "\n",
       "        [[0., 0., 0.],\n",
       "         [0., 0., 0.],\n",
       "         [0., 0., 0.]]]], dtype=float32)>"
      ]
     },
     "execution_count": 49,
     "metadata": {},
     "output_type": "execute_result"
    }
   ],
   "source": [
    "# !Sequential\n",
    "my_seq = tf.keras.Sequential([tf.keras.layers.Conv2D(1, (1, 1)),\n",
    "                               tf.keras.layers.BatchNormalization(),\n",
    "                               tf.keras.layers.Conv2D(2, 1, \n",
    "                                                      padding='same'),\n",
    "                               tf.keras.layers.BatchNormalization(),\n",
    "                               tf.keras.layers.Conv2D(3, (1, 1)),\n",
    "                               tf.keras.layers.BatchNormalization()])\n",
    "my_seq(tf.zeros([1, 2, 3, 3]))"
   ]
  },
  {
   "cell_type": "code",
   "execution_count": null,
   "metadata": {},
   "outputs": [],
   "source": []
  }
 ],
 "metadata": {
  "kernelspec": {
   "display_name": "Python 3",
   "language": "python",
   "name": "python3"
  },
  "language_info": {
   "codemirror_mode": {
    "name": "ipython",
    "version": 3
   },
   "file_extension": ".py",
   "mimetype": "text/x-python",
   "name": "python",
   "nbconvert_exporter": "python",
   "pygments_lexer": "ipython3",
   "version": "3.6.4"
  }
 },
 "nbformat": 4,
 "nbformat_minor": 2
}
