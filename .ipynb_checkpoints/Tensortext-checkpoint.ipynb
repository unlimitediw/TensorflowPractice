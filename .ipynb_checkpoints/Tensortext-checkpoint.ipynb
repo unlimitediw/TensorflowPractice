{
 "cells": [
  {
   "cell_type": "code",
   "execution_count": 1,
   "metadata": {},
   "outputs": [],
   "source": [
    "import tensorflow as tf\n",
    "from tensorflow import keras\n",
    "import numpy as np"
   ]
  },
  {
   "cell_type": "code",
   "execution_count": 2,
   "metadata": {},
   "outputs": [
    {
     "name": "stdout",
     "output_type": "stream",
     "text": [
      "Downloading data from https://storage.googleapis.com/tensorflow/tf-keras-datasets/imdb.npz\n",
      "17465344/17464789 [==============================] - 5s 0us/step\n"
     ]
    }
   ],
   "source": [
    "imdb = keras.datasets.imdb\n",
    "(train_data,train_labels),(test_data,test_labels) = imdb.load_data(num_words = 10000)"
   ]
  },
  {
   "cell_type": "code",
   "execution_count": 12,
   "metadata": {},
   "outputs": [
    {
     "name": "stdout",
     "output_type": "stream",
     "text": [
      "256 256\n",
      "0\n"
     ]
    }
   ],
   "source": [
    "print(len(train_data[0]),len(train_data[3]))"
   ]
  },
  {
   "cell_type": "code",
   "execution_count": 5,
   "metadata": {},
   "outputs": [
    {
     "name": "stdout",
     "output_type": "stream",
     "text": [
      "Downloading data from https://storage.googleapis.com/tensorflow/tf-keras-datasets/imdb_word_index.json\n",
      "1646592/1641221 [==============================] - 0s 0us/step\n"
     ]
    }
   ],
   "source": [
    "word_index = imdb.get_word_index()\n",
    "#reserve first three index\n",
    "word_index = {k:(v+3) for k,v in word_index.items()}\n",
    "word_index[\"<PAD>\"] = 0\n",
    "word_index[\"<START>\"] = 1\n",
    "word_index[\"<UNK>\"] = 2\n",
    "word_index[\"<UNUSED>\"] = 3\n",
    "reverse_word_index = dict([(value,key) for (key,value) in word_index.items()])\n",
    "\n",
    "def decode_review(text):\n",
    "    # dict.get(key,default)\n",
    "    return ' '.join([reverse_word_index.get(i,'?') for i in text])\n",
    "\n"
   ]
  },
  {
   "cell_type": "code",
   "execution_count": 6,
   "metadata": {},
   "outputs": [
    {
     "name": "stdout",
     "output_type": "stream",
     "text": [
      "[1, 14, 22, 16, 43, 530, 973, 1622, 1385, 65, 458, 4468, 66, 3941, 4, 173, 36, 256, 5, 25, 100, 43, 838, 112, 50, 670, 2, 9, 35, 480, 284, 5, 150, 4, 172, 112, 167, 2, 336, 385, 39, 4, 172, 4536, 1111, 17, 546, 38, 13, 447, 4, 192, 50, 16, 6, 147, 2025, 19, 14, 22, 4, 1920, 4613, 469, 4, 22, 71, 87, 12, 16, 43, 530, 38, 76, 15, 13, 1247, 4, 22, 17, 515, 17, 12, 16, 626, 18, 2, 5, 62, 386, 12, 8, 316, 8, 106, 5, 4, 2223, 5244, 16, 480, 66, 3785, 33, 4, 130, 12, 16, 38, 619, 5, 25, 124, 51, 36, 135, 48, 25, 1415, 33, 6, 22, 12, 215, 28, 77, 52, 5, 14, 407, 16, 82, 2, 8, 4, 107, 117, 5952, 15, 256, 4, 2, 7, 3766, 5, 723, 36, 71, 43, 530, 476, 26, 400, 317, 46, 7, 4, 2, 1029, 13, 104, 88, 4, 381, 15, 297, 98, 32, 2071, 56, 26, 141, 6, 194, 7486, 18, 4, 226, 22, 21, 134, 476, 26, 480, 5, 144, 30, 5535, 18, 51, 36, 28, 224, 92, 25, 104, 4, 226, 65, 16, 38, 1334, 88, 12, 16, 283, 5, 16, 4472, 113, 103, 32, 15, 16, 5345, 19, 178, 32]\n"
     ]
    },
    {
     "data": {
      "text/plain": [
       "\"<START> this film was just brilliant casting location scenery story direction everyone's really suited the part they played and you could just imagine being there robert <UNK> is an amazing actor and now the same being director <UNK> father came from the same scottish island as myself so i loved the fact there was a real connection with this film the witty remarks throughout the film were great it was just brilliant so much that i bought the film as soon as it was released for <UNK> and would recommend it to everyone to watch and the fly fishing was amazing really cried at the end it was so sad and you know what they say if you cry at a film it must have been good and this definitely was also <UNK> to the two little boy's that played the <UNK> of norman and paul they were just brilliant children are often left out of the <UNK> list i think because the stars that play them all grown up are such a big profile for the whole film but these children are amazing and should be praised for what they have done don't you think the whole story was so lovely because it was true and was someone's life after all that was shared with us all\""
      ]
     },
     "execution_count": 6,
     "metadata": {},
     "output_type": "execute_result"
    }
   ],
   "source": [
    "print(train_data[0])\n",
    "decode_review(train_data[0])"
   ]
  },
  {
   "cell_type": "code",
   "execution_count": 9,
   "metadata": {},
   "outputs": [
    {
     "name": "stdout",
     "output_type": "stream",
     "text": [
      "256\n",
      "[   1  778  128   74   12  630  163   15    4 1766 7982 1051    2   32\n",
      "   85  156   45   40  148  139  121  664  665   10   10 1361  173    4\n",
      "  749    2   16 3804    8    4  226   65   12   43  127   24    2   10\n",
      "   10    0    0    0    0    0    0    0    0    0    0    0    0    0\n",
      "    0    0    0    0    0    0    0    0    0    0    0    0    0    0\n",
      "    0    0    0    0    0    0    0    0    0    0    0    0    0    0\n",
      "    0    0    0    0    0    0    0    0    0    0    0    0    0    0\n",
      "    0    0    0    0    0    0    0    0    0    0    0    0    0    0\n",
      "    0    0    0    0    0    0    0    0    0    0    0    0    0    0\n",
      "    0    0    0    0    0    0    0    0    0    0    0    0    0    0\n",
      "    0    0    0    0    0    0    0    0    0    0    0    0    0    0\n",
      "    0    0    0    0    0    0    0    0    0    0    0    0    0    0\n",
      "    0    0    0    0    0    0    0    0    0    0    0    0    0    0\n",
      "    0    0    0    0    0    0    0    0    0    0    0    0    0    0\n",
      "    0    0    0    0    0    0    0    0    0    0    0    0    0    0\n",
      "    0    0    0    0    0    0    0    0    0    0    0    0    0    0\n",
      "    0    0    0    0    0    0    0    0    0    0    0    0    0    0\n",
      "    0    0    0    0    0    0    0    0    0    0    0    0    0    0\n",
      "    0    0    0    0]\n"
     ]
    }
   ],
   "source": [
    "# Preparing data\n",
    "# 我们可以填充数组，使它们都具有相同的长度，然后创建一个形状为 max_length * num_reviews 的整数张量。我们可以使用一个能够处理这种形状的嵌入层作为网络中的第一层。\n",
    "train_data = keras.preprocessing.sequence.pad_sequences(train_data,value = word_index[\"<PAD>\"],padding ='post',maxlen=256)\n",
    "test_data = keras.preprocessing.sequence.pad_sequences(test_data,value=word_index[\"<PAD>\"],padding = 'post',maxlen=256)\n",
    "print(len(train_data[9]))\n",
    "print(train_data[5])"
   ]
  },
  {
   "cell_type": "code",
   "execution_count": 49,
   "metadata": {},
   "outputs": [
    {
     "name": "stdout",
     "output_type": "stream",
     "text": [
      "_________________________________________________________________\n",
      "Layer (type)                 Output Shape              Param #   \n",
      "=================================================================\n",
      "embedding_1 (Embedding)      (None, None, 16)          160000    \n",
      "_________________________________________________________________\n",
      "global_average_pooling1d_1 ( (None, 16)                0         \n",
      "_________________________________________________________________\n",
      "dense_2 (Dense)              (None, 16)                272       \n",
      "_________________________________________________________________\n",
      "dense_3 (Dense)              (None, 1)                 17        \n",
      "=================================================================\n",
      "Total params: 160,289\n",
      "Trainable params: 160,289\n",
      "Non-trainable params: 0\n",
      "_________________________________________________________________\n"
     ]
    }
   ],
   "source": [
    "model = keras.Sequential()\n",
    "# Embedding: turns positive integers(indexes) into dense vectors of fixed size\n",
    "# The total number of parameters for embedding layer is 160,000.\n",
    "vocab_size = 10000 # input shape is the vocabulary count used for the movie reviews (10,000 words)\n",
    "# here we have a set of 10000 voca which is input_dim, and 16 output dim\n",
    "model.add(keras.layers.Embedding(vocab_size, 16))\n",
    "# Pooling layer does not need parameter\n",
    "model.add(keras.layers.GlobalAveragePooling1D())\n",
    "# The #parameters for activation layer is 272(16*17) which should be 16 pooling result adding one reg element.\n",
    "model.add(keras.layers.Dense(16,activation = tf.nn.relu))\n",
    "# 16 activation results add one reg.\n",
    "model.add(keras.layers.Dense(1,activation = tf.nn.sigmoid))\n",
    "\n",
    "model.summary()"
   ]
  },
  {
   "cell_type": "code",
   "execution_count": 50,
   "metadata": {},
   "outputs": [],
   "source": [
    "# select binary_crossentropy which is appropriate to probability problem.\n",
    "model.compile(optimizer = tf.train.AdamOptimizer(),loss = 'binary_crossentropy',metrics=['accuracy'])"
   ]
  },
  {
   "cell_type": "code",
   "execution_count": 51,
   "metadata": {},
   "outputs": [],
   "source": [
    "x_val = train_data[:10000]\n",
    "y_val = train_labels[:10000]\n",
    "\n",
    "x_train = train_data[10000:]\n",
    "y_train = train_labels[10000:]\n",
    "np.random.seed(5)"
   ]
  },
  {
   "cell_type": "code",
   "execution_count": 52,
   "metadata": {},
   "outputs": [
    {
     "name": "stdout",
     "output_type": "stream",
     "text": [
      "Train on 15000 samples, validate on 10000 samples\n",
      "Epoch 1/40\n",
      "15000/15000 [==============================] - 1s 38us/sample - loss: 0.6916 - acc: 0.5350 - val_loss: 0.6883 - val_acc: 0.6278\n",
      "Epoch 2/40\n",
      "15000/15000 [==============================] - 0s 26us/sample - loss: 0.6832 - acc: 0.7069 - val_loss: 0.6773 - val_acc: 0.6995\n",
      "Epoch 3/40\n",
      "15000/15000 [==============================] - 0s 26us/sample - loss: 0.6673 - acc: 0.7293 - val_loss: 0.6584 - val_acc: 0.7290\n",
      "Epoch 4/40\n",
      "15000/15000 [==============================] - 0s 27us/sample - loss: 0.6424 - acc: 0.7687 - val_loss: 0.6316 - val_acc: 0.7798\n",
      "Epoch 5/40\n",
      "15000/15000 [==============================] - 0s 25us/sample - loss: 0.6087 - acc: 0.7994 - val_loss: 0.5973 - val_acc: 0.7982\n",
      "Epoch 6/40\n",
      "15000/15000 [==============================] - 0s 25us/sample - loss: 0.5678 - acc: 0.8215 - val_loss: 0.5574 - val_acc: 0.8059\n",
      "Epoch 7/40\n",
      "15000/15000 [==============================] - 0s 25us/sample - loss: 0.5230 - acc: 0.8370 - val_loss: 0.5169 - val_acc: 0.8232\n",
      "Epoch 8/40\n",
      "15000/15000 [==============================] - 0s 25us/sample - loss: 0.4780 - acc: 0.8529 - val_loss: 0.4780 - val_acc: 0.8366\n",
      "Epoch 9/40\n",
      "15000/15000 [==============================] - 0s 26us/sample - loss: 0.4361 - acc: 0.8654 - val_loss: 0.4431 - val_acc: 0.8462\n",
      "Epoch 10/40\n",
      "15000/15000 [==============================] - 0s 29us/sample - loss: 0.3989 - acc: 0.8753 - val_loss: 0.4134 - val_acc: 0.8534\n",
      "Epoch 11/40\n",
      "15000/15000 [==============================] - 0s 27us/sample - loss: 0.3670 - acc: 0.8843 - val_loss: 0.3890 - val_acc: 0.8568\n",
      "Epoch 12/40\n",
      "15000/15000 [==============================] - 0s 29us/sample - loss: 0.3398 - acc: 0.8893 - val_loss: 0.3687 - val_acc: 0.8636\n",
      "Epoch 13/40\n",
      "15000/15000 [==============================] - 0s 28us/sample - loss: 0.3165 - acc: 0.8967 - val_loss: 0.3536 - val_acc: 0.8671\n",
      "Epoch 14/40\n",
      "15000/15000 [==============================] - 0s 26us/sample - loss: 0.2967 - acc: 0.9009 - val_loss: 0.3393 - val_acc: 0.8720\n",
      "Epoch 15/40\n",
      "15000/15000 [==============================] - 0s 27us/sample - loss: 0.2790 - acc: 0.9065 - val_loss: 0.3287 - val_acc: 0.8744\n",
      "Epoch 16/40\n",
      "15000/15000 [==============================] - 0s 25us/sample - loss: 0.2637 - acc: 0.9118 - val_loss: 0.3199 - val_acc: 0.8761\n",
      "Epoch 17/40\n",
      "15000/15000 [==============================] - 0s 26us/sample - loss: 0.2500 - acc: 0.9153 - val_loss: 0.3124 - val_acc: 0.8782\n",
      "Epoch 18/40\n",
      "15000/15000 [==============================] - 0s 25us/sample - loss: 0.2375 - acc: 0.9190 - val_loss: 0.3058 - val_acc: 0.8802\n",
      "Epoch 19/40\n",
      "15000/15000 [==============================] - 0s 26us/sample - loss: 0.2260 - acc: 0.9227 - val_loss: 0.3008 - val_acc: 0.8813\n",
      "Epoch 20/40\n",
      "15000/15000 [==============================] - 0s 25us/sample - loss: 0.2157 - acc: 0.9269 - val_loss: 0.2967 - val_acc: 0.8816\n",
      "Epoch 21/40\n",
      "15000/15000 [==============================] - 0s 26us/sample - loss: 0.2061 - acc: 0.9302 - val_loss: 0.2933 - val_acc: 0.8825\n",
      "Epoch 22/40\n",
      "15000/15000 [==============================] - 0s 25us/sample - loss: 0.1973 - acc: 0.9337 - val_loss: 0.2904 - val_acc: 0.8839\n",
      "Epoch 23/40\n",
      "15000/15000 [==============================] - 0s 26us/sample - loss: 0.1885 - acc: 0.9379 - val_loss: 0.2886 - val_acc: 0.8841\n",
      "Epoch 24/40\n",
      "15000/15000 [==============================] - 0s 25us/sample - loss: 0.1805 - acc: 0.9419 - val_loss: 0.2872 - val_acc: 0.8851\n",
      "Epoch 25/40\n",
      "15000/15000 [==============================] - 0s 28us/sample - loss: 0.1732 - acc: 0.9448 - val_loss: 0.2855 - val_acc: 0.8841\n",
      "Epoch 26/40\n",
      "15000/15000 [==============================] - 0s 26us/sample - loss: 0.1667 - acc: 0.9459 - val_loss: 0.2854 - val_acc: 0.8858\n",
      "Epoch 27/40\n",
      "15000/15000 [==============================] - 0s 26us/sample - loss: 0.1600 - acc: 0.9505 - val_loss: 0.2859 - val_acc: 0.8848\n",
      "Epoch 28/40\n",
      "15000/15000 [==============================] - 0s 25us/sample - loss: 0.1533 - acc: 0.9529 - val_loss: 0.2847 - val_acc: 0.8864\n",
      "Epoch 29/40\n",
      "15000/15000 [==============================] - 0s 25us/sample - loss: 0.1475 - acc: 0.9549 - val_loss: 0.2852 - val_acc: 0.8868\n",
      "Epoch 30/40\n",
      "15000/15000 [==============================] - 0s 26us/sample - loss: 0.1422 - acc: 0.9562 - val_loss: 0.2880 - val_acc: 0.8816\n",
      "Epoch 31/40\n",
      "15000/15000 [==============================] - 0s 28us/sample - loss: 0.1373 - acc: 0.9593 - val_loss: 0.2862 - val_acc: 0.8866\n",
      "Epoch 32/40\n",
      "15000/15000 [==============================] - 0s 27us/sample - loss: 0.1315 - acc: 0.9616 - val_loss: 0.2874 - val_acc: 0.8863\n",
      "Epoch 33/40\n",
      "15000/15000 [==============================] - 0s 26us/sample - loss: 0.1266 - acc: 0.9633 - val_loss: 0.2892 - val_acc: 0.8856\n",
      "Epoch 34/40\n",
      "15000/15000 [==============================] - 0s 25us/sample - loss: 0.1224 - acc: 0.9648 - val_loss: 0.2907 - val_acc: 0.8857\n",
      "Epoch 35/40\n",
      "15000/15000 [==============================] - 0s 25us/sample - loss: 0.1175 - acc: 0.9670 - val_loss: 0.2929 - val_acc: 0.8842\n",
      "Epoch 36/40\n",
      "15000/15000 [==============================] - 0s 24us/sample - loss: 0.1135 - acc: 0.9691 - val_loss: 0.2946 - val_acc: 0.8859\n",
      "Epoch 37/40\n",
      "15000/15000 [==============================] - 0s 29us/sample - loss: 0.1090 - acc: 0.9709 - val_loss: 0.2973 - val_acc: 0.8847\n",
      "Epoch 38/40\n",
      "15000/15000 [==============================] - 0s 29us/sample - loss: 0.1054 - acc: 0.9718 - val_loss: 0.2998 - val_acc: 0.8849\n",
      "Epoch 39/40\n",
      "15000/15000 [==============================] - 0s 26us/sample - loss: 0.1015 - acc: 0.9726 - val_loss: 0.3025 - val_acc: 0.8836\n",
      "Epoch 40/40\n",
      "15000/15000 [==============================] - 0s 27us/sample - loss: 0.0979 - acc: 0.9743 - val_loss: 0.3045 - val_acc: 0.8830\n"
     ]
    }
   ],
   "source": [
    "solution = model.fit(x_train,y_train,epochs = 40,batch_size= 512, validation_data=(x_val,y_val),verbose = 1)"
   ]
  },
  {
   "cell_type": "code",
   "execution_count": 53,
   "metadata": {},
   "outputs": [
    {
     "name": "stdout",
     "output_type": "stream",
     "text": [
      "25000/25000 [==============================] - 1s 23us/sample - loss: 0.3251 - acc: 0.8735\n"
     ]
    },
    {
     "data": {
      "text/plain": [
       "[0.3251118165016174, 0.87348]"
      ]
     },
     "execution_count": 53,
     "metadata": {},
     "output_type": "execute_result"
    }
   ],
   "source": [
    "results = model.evaluate(test_data,test_labels)\n",
    "results"
   ]
  },
  {
   "cell_type": "code",
   "execution_count": 54,
   "metadata": {},
   "outputs": [
    {
     "data": {
      "text/plain": [
       "dict_keys(['loss', 'acc', 'val_loss', 'val_acc'])"
      ]
     },
     "execution_count": 54,
     "metadata": {},
     "output_type": "execute_result"
    }
   ],
   "source": [
    "history_dict = history.history\n",
    "history_dict.keys()"
   ]
  },
  {
   "cell_type": "code",
   "execution_count": 55,
   "metadata": {},
   "outputs": [
    {
     "name": "stdout",
     "output_type": "stream",
     "text": [
      "40\n"
     ]
    },
    {
     "data": {
      "image/png": "[encoded data removed]",
      "text/plain": [
       "<Figure size 432x288 with 1 Axes>"
      ]
     },
     "metadata": {
      "needs_background": "light"
     },
     "output_type": "display_data"
    }
   ],
   "source": [
    "import matplotlib.pyplot as plt\n",
    "acc = solution.history['acc']\n",
    "val_acc = solution.history['val_acc']\n",
    "loss = solution.history['loss']\n",
    "val_loss = solution.history['val_loss']\n",
    "\n",
    "print(len(acc))\n",
    "epochs = range(1,len(acc) + 1)\n",
    "# \"bo\" is for \"blue dot\"\n",
    "plt.plot(epochs, loss, 'bo', label='Training loss')\n",
    "# b is for \"solid blue line\"\n",
    "plt.plot(epochs, val_loss, 'b', label='Validation loss')\n",
    "plt.title('Training and validation loss')\n",
    "plt.xlabel('Epochs')\n",
    "plt.ylabel('Loss')\n",
    "plt.legend()\n",
    "\n",
    "plt.show()"
   ]
  },
  {
   "cell_type": "code",
   "execution_count": 56,
   "metadata": {},
   "outputs": [
    {
     "data": {
      "image/png": "[encoded data removed]",
      "text/plain": [
       "<Figure size 432x288 with 1 Axes>"
      ]
     },
     "metadata": {
      "needs_background": "light"
     },
     "output_type": "display_data"
    }
   ],
   "source": [
    "plt.clf()   # clear figure\n",
    "acc_values = solution_dic['acc']\n",
    "val_acc_values = solution_dic['val_acc']\n",
    "\n",
    "plt.plot(epochs, acc, 'bo', label='Training acc')\n",
    "plt.plot(epochs, val_acc, 'b', label='Validation acc')\n",
    "plt.title('Training and validation accuracy')\n",
    "plt.xlabel('Epochs')\n",
    "plt.ylabel('Accuracy')\n",
    "plt.legend()\n",
    "\n",
    "plt.show()"
   ]
  },
  {
   "cell_type": "code",
   "execution_count": null,
   "metadata": {},
   "outputs": [],
   "source": []
  }
 ],
 "metadata": {
  "kernelspec": {
   "display_name": "Python 3",
   "language": "python",
   "name": "python3"
  },
  "language_info": {
   "codemirror_mode": {
    "name": "ipython",
    "version": 3
   },
   "file_extension": ".py",
   "mimetype": "text/x-python",
   "name": "python",
   "nbconvert_exporter": "python",
   "pygments_lexer": "ipython3",
   "version": "3.6.4"
  }
 },
 "nbformat": 4,
 "nbformat_minor": 2
}
